{
  "cells": [
    {
      "cell_type": "markdown",
      "metadata": {},
      "source": [
        "\n\n# Start PyHPS Data Transfer\n\nThis example script starts a data transfer service client and queries available storage.\n\nExample usage:\n``python examples/data_transfer_runner.py --debug``\n"
      ]
    },
    {
      "cell_type": "code",
      "execution_count": null,
      "metadata": {
        "collapsed": false
      },
      "outputs": [],
      "source": [
        "import json\nimport logging\nimport time\n\nimport typer\nfrom typing_extensions import Annotated\n\nfrom ansys.hps.data_transfer.client import Client, DataTransferApi\nfrom ansys.hps.data_transfer.client.authenticate import authenticate\n\n\ndef main(\n    debug: Annotated[bool, typer.Option(help=\"Enable debug logging\")] = False,\n    url: Annotated[str, typer.Option(help=\"HPS URL to connect to\")] = \"https://localhost:8443/hps\",\n    username: Annotated[str, typer.Option(help=\"Username to authenticate with\")] = \"repadmin\",\n    password: Annotated[\n        str, typer.Option(prompt=True, hide_input=True, help=\"Password to authenticate with\")\n    ] = \"repadmin\",\n):\n\n    auth_url = f\"{url}/auth/realms/rep\"\n    log = logging.getLogger()\n    logging.basicConfig(format=\"%(levelname)8s > %(message)s\", level=logging.DEBUG)\n\n    user_token = authenticate(username=username, password=password, verify=False, url=auth_url)\n    user_token = user_token.get(\"access_token\", None)\n    assert user_token is not None\n\n    client = Client()\n    client.binary_config.update(\n        verbosity=3,\n        debug=debug,\n        insecure=True,\n        token=user_token,\n    )\n\n    client.binary_config.debug = True\n    client.start()\n    api = DataTransferApi(client)\n    s = api.status(wait=True)\n    log.info(\"Status: %s\" % s)\n\n    log.info(\"Available storage:\")\n    for d in api.storages():\n        log.info(f\"- {json.dumps(d, indent=4)}\")\n\n    for i in range(10):\n        log.info(\"Idling for a while...\")\n        time.sleep(2)\n\n    client.stop()\n\n\nif __name__ == \"__main__\":\n    typer.run(main)"
      ]
    }
  ],
  "metadata": {
    "kernelspec": {
      "display_name": "Python 3",
      "language": "python",
      "name": "python3"
    },
    "language_info": {
      "codemirror_mode": {
        "name": "ipython",
        "version": 3
      },
      "file_extension": ".py",
      "mimetype": "text/x-python",
      "name": "python",
      "nbconvert_exporter": "python",
      "pygments_lexer": "ipython3",
      "version": "3.12.11"
    }
  },
  "nbformat": 4,
  "nbformat_minor": 0
}