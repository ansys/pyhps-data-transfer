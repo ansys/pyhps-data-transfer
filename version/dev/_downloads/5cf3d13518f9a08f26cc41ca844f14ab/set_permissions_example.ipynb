{
  "cells": [
    {
      "cell_type": "markdown",
      "metadata": {},
      "source": [
        "\n\n# Set and query permissions\n\nThis example script sets and queries permissions on files and\ndirectories using the data transfer service.\n\nExample usage:\n``python examples/set_permissions_example.py --local-path=examples/basic/files/hello``\n"
      ]
    },
    {
      "cell_type": "code",
      "execution_count": null,
      "metadata": {
        "collapsed": false
      },
      "outputs": [],
      "source": [
        "import glob\nimport logging\nimport os\nimport pathlib\nimport traceback\n\nfrom keycloak import KeycloakAdmin\nimport typer\nfrom typing_extensions import Annotated\n\nfrom ansys.hps.data_transfer.client import Client, DataTransferApi, get_log_level\nfrom ansys.hps.data_transfer.client.authenticate import authenticate\nfrom ansys.hps.data_transfer.client.models import SrcDst, StoragePath\nfrom ansys.hps.data_transfer.client.models import (\n    Resource,\n    ResourceType,\n    RoleAssignment,\n    RoleType,\n    Subject,\n    SubjectType,\n)\n\nstream_formatter = logging.Formatter(\"[%(asctime)s/%(levelname)5.5s]  %(message)s\", datefmt=\"%H:%M:%S\")\nstream_handler = logging.StreamHandler()\nstream_handler.setFormatter(stream_formatter)\nstream_handler.setLevel(logging.DEBUG)\nlog = logging.getLogger(\"ansys.hps\")\nlog.addHandler(stream_handler)\nlog.setLevel(logging.DEBUG)"
      ]
    },
    {
      "cell_type": "markdown",
      "metadata": {},
      "source": [
        "## Define a method to get the user ID of ``repuser``` from Keycloak\n\n"
      ]
    },
    {
      "cell_type": "code",
      "execution_count": null,
      "metadata": {
        "collapsed": false
      },
      "outputs": [],
      "source": [
        "def get_user_id_from_keycloak(keycloak_url):\n    \"\"\"Get the user id of 'repuser' from Keycloak.\"\"\"\n    admin = KeycloakAdmin(\n        server_url=keycloak_url + \"/\",\n        username=\"keycloak\",\n        password=\"keycloak123\",\n        realm_name=\"rep\",\n        user_realm_name=\"master\",\n        verify=False,\n    )\n    user_id = admin.get_user_id(\"repuser\")\n    return user_id"
      ]
    },
    {
      "cell_type": "markdown",
      "metadata": {},
      "source": [
        "## Define a method to set and query permissions on files and directories\n\n"
      ]
    },
    {
      "cell_type": "code",
      "execution_count": null,
      "metadata": {
        "collapsed": false
      },
      "outputs": [],
      "source": [
        "def permissions(api: DataTransferApi, url: str):\n    \"\"\"Set and query permissions on files and directories.\"\"\"\n    keycloak_url = f\"{url}/auth\"\n    auth_url = f\"{keycloak_url}/realms/rep\"\n    dt_url = f\"{url}/dt/api/v1\"\n\n    log.info(\"### Checking binary's status ...\")\n    status = api.status(wait=True)\n    log.info(f\"### Client binary status: {status}\")\n\n    source_dir = pathlib.Path(__file__).parent / \"files\"\n    source_dir = os.path.relpath(source_dir, os.getcwd())\n    log.info(f\"### Searching for files to copy in {source_dir} ...\")\n    files = glob.glob(os.path.join(source_dir, \"**\", \"*.*\"), recursive=True)\n    log.info(\"Found files:\")\n    for file in files:\n        log.info(f\"- {file}\")"
      ]
    },
    {
      "cell_type": "markdown",
      "metadata": {},
      "source": [
        "## Copy files as ``repuser``\n\n"
      ]
    },
    {
      "cell_type": "code",
      "execution_count": null,
      "metadata": {
        "collapsed": false
      },
      "outputs": [],
      "source": [
        "log.info(\"### Trying to copy files as 'repuser'...\")\n    target_dir = \"permissions_demo\"\n    src_dst = [\n        SrcDst(\n            src=StoragePath(path=f, remote=\"local\"),\n            dst=StoragePath(\n                path=os.path.normpath(\n                    os.path.join(target_dir, os.path.relpath(os.path.dirname(f), source_dir), os.path.basename(f))\n                ),\n                remote=\"any\",\n            ),\n        )\n        for f in files\n    ]\n    log.info(\"### Operations to execute: \")\n    for sd in src_dst:\n        log.info(f\"- {sd.src.remote}:{sd.src.path} -> {sd.dst.remote}:{sd.dst.path}\")\n\n    try:\n        # The operation fails because 'repuser' does not have the necessary permissions\n        resp = api.copy(src_dst)\n    except Exception as ex:\n        log.error(f\"Encountered error: {ex}\")\n\n    admin_token = authenticate(username=\"repadmin\", password=\"repadmin\", verify=False, url=auth_url)\n    admin_token = admin_token.get(\"access_token\", None)"
      ]
    },
    {
      "cell_type": "markdown",
      "metadata": {},
      "source": [
        "## Create a data transfer client for ``repadmin``\n\n"
      ]
    },
    {
      "cell_type": "code",
      "execution_count": null,
      "metadata": {
        "collapsed": false
      },
      "outputs": [],
      "source": [
        "log.info(\"### Preparing data transfer client for 'repadmin' ...\")\n    admin_client = Client()\n    admin_client.binary_config.update(\n        verbosity=3,\n        debug=False,\n        insecure=True,\n        token=admin_token,\n        data_transfer_url=dt_url,\n    )\n    admin_client.start()\n\n    admin = DataTransferApi(admin_client)\n    admin.status(wait=True)"
      ]
    },
    {
      "cell_type": "markdown",
      "metadata": {},
      "source": [
        "## Grant ``repuser`` the necessary permissions\n\n"
      ]
    },
    {
      "cell_type": "code",
      "execution_count": null,
      "metadata": {
        "collapsed": false
      },
      "outputs": [],
      "source": [
        "log.info(\"### Granting 'repuser' the necessary permissions ...\")\n    user_id = get_user_id_from_keycloak(keycloak_url)\n\n    try:\n        admin.set_permissions(\n            [\n                RoleAssignment(\n                    resource=Resource(path=target_dir, type=ResourceType.Doc),\n                    role=RoleType.Writer,\n                    subject=Subject(id=user_id, type=SubjectType.User),\n                )\n            ]\n        )\n    except Exception as ex:\n        log.info(ex)"
      ]
    },
    {
      "cell_type": "markdown",
      "metadata": {},
      "source": [
        "## Verify permissions for ``repuser``\n\n"
      ]
    },
    {
      "cell_type": "code",
      "execution_count": null,
      "metadata": {
        "collapsed": false
      },
      "outputs": [],
      "source": [
        "try:\n        log.info(\"### Verifying permissions for 'repuser' ...\")\n        resp = admin.check_permissions(\n            [\n                RoleAssignment(\n                    resource=Resource(path=target_dir, type=ResourceType.Doc),\n                    role=RoleType.Writer,\n                    subject=Subject(id=user_id, type=SubjectType.User),\n                )\n            ]\n        )\n\n        log.info(f\"### Is 'repuser'({user_id}) allowed to read from {target_dir}? -> {resp.allowed}\")\n\n        log.info(\"### Trying to copy files as 'repuser' one more time...\")\n        resp = api.copy(src_dst)\n        op = api.wait_for([resp.id], timeout=None)[0]\n        log.info(f\"### Copy operation state: {op.state}\")"
      ]
    },
    {
      "cell_type": "markdown",
      "metadata": {},
      "source": [
        "## List files in the target directory as ``repadmin``\n\n"
      ]
    },
    {
      "cell_type": "code",
      "execution_count": null,
      "metadata": {
        "collapsed": false
      },
      "outputs": [],
      "source": [
        "log.info(\"### Listing files in the target directory as 'repadmin' ...\")\n        resp = admin.list([StoragePath(path=target_dir, remote=\"any\")])\n        op = admin.wait_for([resp.id], timeout=10)[0]\n        log.info(f\"### Result: {op.result}\")"
      ]
    },
    {
      "cell_type": "markdown",
      "metadata": {},
      "source": [
        "## Download files to ``downloaded`` directory\n\n"
      ]
    },
    {
      "cell_type": "code",
      "execution_count": null,
      "metadata": {
        "collapsed": false
      },
      "outputs": [],
      "source": [
        "target_dir = os.path.join(os.path.dirname(__file__), \"downloaded\")\n        log.info(f\"### Downloading files to {target_dir}...\")\n        src_dst = [\n            SrcDst(\n                src=sd.dst,\n                dst=StoragePath(remote=\"local\", path=os.path.join(target_dir, os.path.basename(sd.dst.path))),\n            )\n            for sd in src_dst\n        ]\n        resp = admin.copy(src_dst)\n        op = admin.wait_for([resp.id], timeout=300)[0]\n        log.info(f\"### Copy operation state: {op.state}\")\n    except Exception as ex:\n        log.debug(traceback.format_exc())\n        log.error(f\"Error: {ex}\")\n    finally:\n        log.info(\"Removing permissions for 'repuser' ...\")\n        admin.remove_permissions(\n            [\n                RoleAssignment(\n                    resource=Resource(path=target_dir, type=ResourceType.Doc),\n                    role=\"writer\",\n                    subject=Subject(id=user_id, type=SubjectType.User),\n                )\n            ]\n        )\n\n    admin_client.stop()"
      ]
    },
    {
      "cell_type": "markdown",
      "metadata": {},
      "source": [
        "## Define the main function\n\n"
      ]
    },
    {
      "cell_type": "code",
      "execution_count": null,
      "metadata": {
        "collapsed": false
      },
      "outputs": [],
      "source": [
        "def main(\n    debug: Annotated[bool, typer.Option(help=\"Enable debug logging\")] = False,\n    verbosity: Annotated[int, typer.Option(help=\"Increase verbosity\")] = 1,\n    url: Annotated[str, typer.Option(help=\"HPS URL to connect to\")] = \"https://localhost:8443/hps\",\n    username: Annotated[str, typer.Option(help=\"Username to authenticate with\")] = \"repadmin\",\n    password: Annotated[\n        str, typer.Option(prompt=True, hide_input=True, help=\"Password to authenticate with\")\n    ] = \"repadmin\",\n):\n    logging.basicConfig(format=\"%(levelname)8s > %(message)s\", level=get_log_level(verbosity, debug))\n\n    dt_url = f\"{url}/dt/api/v1\"\n    auth_url = f\"{url}/auth/realms/rep\"\n\n    token = authenticate(username=username, password=password, verify=False, url=auth_url)\n    token = token.get(\"access_token\", None)\n    assert token is not None\n\n    log.info(\"Connecting to the data transfer service client..\")\n    client = Client(clean=True)\n\n    client.binary_config.update(\n        verbosity=verbosity,\n        debug=debug,\n        insecure=True,\n        token=token,\n        data_transfer_url=dt_url,\n    )\n    client.start()\n\n    api = DataTransferApi(client)\n    api.status(wait=True)\n    storage_names = [f\"{s['name']}({s['type']})\" for s in api.storages()]\n    log.info(f\"Available storages: {storage_names}\")\n\n    permissions(api=api, url=url)\n\n    client.stop()\n\n\nif __name__ == \"__main__\":\n    typer.run(main)"
      ]
    }
  ],
  "metadata": {
    "kernelspec": {
      "display_name": "Python 3",
      "language": "python",
      "name": "python3"
    },
    "language_info": {
      "codemirror_mode": {
        "name": "ipython",
        "version": 3
      },
      "file_extension": ".py",
      "mimetype": "text/x-python",
      "name": "python",
      "nbconvert_exporter": "python",
      "pygments_lexer": "ipython3",
      "version": "3.12.11"
    }
  },
  "nbformat": 4,
  "nbformat_minor": 0
}