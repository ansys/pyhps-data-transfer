{
  "cells": [
    {
      "cell_type": "markdown",
      "metadata": {},
      "source": [
        "\n\n# Run file operations synchronously\n\nThis example script is intended to be run from the command line.\nIt runs the specified file operations synchronously based on the provided arguments.\n\nExample usage:\n``python examples/file_operations_client.py --local-path=examples/basic/files/* --remote-path=hello --debug``\n"
      ]
    },
    {
      "cell_type": "code",
      "execution_count": null,
      "metadata": {
        "collapsed": false
      },
      "outputs": [],
      "source": [
        "import glob\nimport logging\nimport os\nfrom pathlib import Path\nfrom typing import Optional\n\nimport typer\nfrom typing_extensions import Annotated\n\nfrom ansys.hps.data_transfer.client import Client, DataTransferApi, get_log_level\nfrom ansys.hps.data_transfer.client.authenticate import authenticate\nfrom ansys.hps.data_transfer.client.models import SrcDst, StoragePath\n\n\nlog = logging.getLogger(__name__)"
      ]
    },
    {
      "cell_type": "markdown",
      "metadata": {},
      "source": [
        "## Run file operations\n\n"
      ]
    },
    {
      "cell_type": "code",
      "execution_count": null,
      "metadata": {
        "collapsed": false
      },
      "outputs": [],
      "source": [
        "def file_operations(api: DataTransferApi, local_path: str, remote_path: Optional[str] = None):\n    if not remote_path:\n        remote_path = Path(local_path).parent.name\n\n    log.info(\"Creating a directory ...\")\n    base_dir = \"basic-example\"\n    mkdir_op = api.mkdir([StoragePath(path=f\"{base_dir}\")])\n    api.wait_for([mkdir_op.id])\n\n    log.info(\"Copying files ...\")\n    files = glob.glob(os.path.join(os.path.dirname(__file__), \"files\", \"*.txt\"))\n    srcs = [StoragePath(path=file, remote=\"local\") for file in files]\n    dsts = [StoragePath(path=f\"{base_dir}/{os.path.basename(file)}\") for file in files]\n\n    op = api.copy([SrcDst(src=src, dst=dst) for src, dst in zip(srcs, dsts)])\n    op = api.wait_for([op.id])\n\n    log.info(\"Listing files ...\")\n    op = api.list([StoragePath(path=base_dir)])\n    op = api.wait_for([op.id])\n    log.info(f\"Files in {base_dir}: {op[0].result}\")\n\n    log.info(\"Getting metadata ...\")\n    op = api.get_metadata([StoragePath(path=f\"{base_dir}/2.txt\")])\n    op = api.wait_for(op.id)\n    md = op[0].result[f\"{base_dir}/2.txt\"]\n    log.info(f\"Metadata for {base_dir}/2.txt: {md}\")\n\n    log.info(\"Removing files ...\")\n    op = api.rmdir([StoragePath(path=base_dir)])\n    op = api.wait_for([op.id])"
      ]
    },
    {
      "cell_type": "markdown",
      "metadata": {},
      "source": [
        "## Define the main function\n\n"
      ]
    },
    {
      "cell_type": "code",
      "execution_count": null,
      "metadata": {
        "collapsed": false
      },
      "outputs": [],
      "source": [
        "def main(\n    local_path: Annotated[str, typer.Option(help=\"Path to the files or directory to transfer. Supports wildcards.\")],\n    remote_path: Annotated[str, typer.Option(help=\"Optional path to the remote directory to transfer files to.\")] = None,\n    debug: Annotated[bool, typer.Option(help=\"Enable debug logging.\")] = False,\n    verbosity: Annotated[int, typer.Option(help=\"Increase verbosity\")] = 1,\n    url: Annotated[str, typer.Option(help=\"HPS URL to connect to.\")] = \"https://localhost:8443/hps\",\n    username: Annotated[str, typer.Option(help=\"Username to authenticate with.\")] = \"repadmin\",\n    password: Annotated[\n        str, typer.Option(prompt=True, hide_input=True, help=\"Password to authenticate with.\")\n    ] = \"repadmin\",\n):\n    logging.basicConfig(format=\"%(levelname)8s > %(message)s\", level=get_log_level(verbosity, debug))\n\n\n    dt_url = f\"{url}/dt/api/v1\"\n    auth_url = f\"{url}/auth/realms/rep\"\n\n    token = authenticate(username=username, password=password, verify=False, url=auth_url)\n    token = token.get(\"access_token\", None)\n    assert token is not None\n\n    log.info(\"Connecting to the data transfer service client..\")\n    client = Client(clean=True)\n\n    client.binary_config.update(\n        verbosity=verbosity,\n        debug=debug,\n        log=debug,\n        insecure=True,\n        token=token,\n        data_transfer_url=dt_url,\n    )\n    client.start()\n\n    api = DataTransferApi(client)\n    api.status(wait=True)\n    storage_names = [f\"{s['name']}({s['type']})\" for s in api.storages()]\n    log.info(f\"Available storages: {storage_names}\")\n\n    file_operations(api=api, local_path=local_path, remote_path=remote_path)\n\n    client.stop()\n\n\nif __name__ == \"__main__\":\n    typer.run(main)"
      ]
    }
  ],
  "metadata": {
    "kernelspec": {
      "display_name": "Python 3",
      "language": "python",
      "name": "python3"
    },
    "language_info": {
      "codemirror_mode": {
        "name": "ipython",
        "version": 3
      },
      "file_extension": ".py",
      "mimetype": "text/x-python",
      "name": "python",
      "nbconvert_exporter": "python",
      "pygments_lexer": "ipython3",
      "version": "3.12.11"
    }
  },
  "nbformat": 4,
  "nbformat_minor": 0
}