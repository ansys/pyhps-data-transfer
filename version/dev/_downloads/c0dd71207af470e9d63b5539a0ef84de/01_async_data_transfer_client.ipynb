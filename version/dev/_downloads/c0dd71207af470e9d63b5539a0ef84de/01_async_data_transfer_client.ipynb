{
  "cells": [
    {
      "cell_type": "markdown",
      "metadata": {},
      "source": [
        "\n\n# Run file operations asynchronously\n\nThis exammple script is intended to be run from the command line. It\nauthenticates with the specified HPS service and sets up an asynchronous\nclient for data transfer operations. It then transfers files to and from remote backends\nusing the data transfer service.\n\nExample usage:\n``python examples/async_data_transfer_client.py --url \"https://example.com/hps\" --username \"user\" --password \"pass\"``\n"
      ]
    },
    {
      "cell_type": "code",
      "execution_count": null,
      "metadata": {
        "collapsed": false
      },
      "outputs": [],
      "source": [
        "import asyncio\nimport glob\nimport logging\nimport os\n\nimport typer\nfrom typing_extensions import Annotated\n\nfrom ansys.hps.data_transfer.client import AsyncClient, AsyncDataTransferApi, get_log_level\nfrom ansys.hps.data_transfer.client.authenticate import authenticate\nfrom ansys.hps.data_transfer.client.models import SrcDst, StoragePath\n\nasync def main(\n    debug: Annotated[bool, typer.Option(help=\"Enable debug logging\")] = False,\n    verbosity: Annotated[int, typer.Option(help=\"Increase verbosity\")] = 1,\n    url: Annotated[str, typer.Option(help=\"HPS URL to connect to\")] = \"https://localhost:8443/hps\",\n    username: Annotated[str, typer.Option(help=\"Username to authenticate with\")] = \"repadmin\",\n    password: Annotated[\n        str, typer.Option(prompt=True, hide_input=True, help=\"Password to authenticate with\")\n    ] = \"repadmin\",\n):\n\n    log = logging.getLogger()\n    logging.basicConfig(format=\"%(levelname)8s > %(message)s\", level=get_log_level(verbosity, debug))\n\n    dt_url = f\"{url}/dt/api/v1\"\n    auth_url = f\"{url}/auth/realms/rep\"\n    token = authenticate(username=username, password=password, verify=False, url=auth_url)\n    token = token.get(\"access_token\", None)\n    assert token is not None"
      ]
    },
    {
      "cell_type": "markdown",
      "metadata": {},
      "source": [
        "## Create an ``AsyncClient`` instance\n\n"
      ]
    },
    {
      "cell_type": "code",
      "execution_count": null,
      "metadata": {
        "collapsed": false
      },
      "outputs": [],
      "source": [
        "client = AsyncClient(clean=True)\n\n    client.binary_config.update(\n        verbosity=verbosity,\n        debug=debug,\n        insecure=True,\n        token=token,\n        data_transfer_url=dt_url,\n    )\n    await client.start()"
      ]
    },
    {
      "cell_type": "markdown",
      "metadata": {},
      "source": [
        "## Create an ``AsyncDataTransferApi`` instance\n\n"
      ]
    },
    {
      "cell_type": "code",
      "execution_count": null,
      "metadata": {
        "collapsed": false
      },
      "outputs": [],
      "source": [
        "api = AsyncDataTransferApi(client)\n    await api.status(wait=True)"
      ]
    },
    {
      "cell_type": "markdown",
      "metadata": {},
      "source": [
        "## Get available storages\n\n"
      ]
    },
    {
      "cell_type": "code",
      "execution_count": null,
      "metadata": {
        "collapsed": false
      },
      "outputs": [],
      "source": [
        "storages = await api.storages()\n    storage_names = [f\"{storage['name']}({storage['type']})\" for storage in storages]\n    log.info(f\"Available storages: {storage_names}\")"
      ]
    },
    {
      "cell_type": "markdown",
      "metadata": {},
      "source": [
        "## Run file operations\n\n"
      ]
    },
    {
      "cell_type": "code",
      "execution_count": null,
      "metadata": {
        "collapsed": false
      },
      "outputs": [],
      "source": [
        "base_dir = \"basic-example\"\n    mkdir_op = await api.mkdir([StoragePath(path=f\"{base_dir}\")])\n    await api.wait_for([mkdir_op.id])\n\n    log.info(\"Copying files ...\")\n    files = glob.glob(os.path.join(os.path.dirname(__file__), \"files\", \"*.txt\"))\n    srcs = [StoragePath(path=file, remote=\"local\") for file in files]\n    dsts = [StoragePath(path=f\"{base_dir}/{os.path.basename(file)}\") for file in files]\n\n    op = await api.copy([SrcDst(src=src, dst=dst) for src, dst in zip(srcs, dsts)])\n    op = await api.wait_for([op.id])\n\n    files = glob.glob(os.path.join(os.path.dirname(__file__), \"*.txt\"))\n    srcs = [StoragePath(path=file, remote=\"local\") for file in files]\n    dsts = [StoragePath(path=f\"{os.path.basename(file)}\") for file in files]\n\n    op = await api.copy([SrcDst(src=src, dst=dst) for src, dst in zip(srcs, dsts)])\n    op = await api.wait_for([op.id])\n\n    log.info(\"Listing files ...\")\n    op = await api.list([StoragePath(path=base_dir)])\n    op = await api.wait_for([op.id])\n    log.info(f\"Files in {base_dir}: {op[0].result}\")\n\n    log.info(\"Getting metadata ...\")\n    op = await api.get_metadata([StoragePath(path=f\"{base_dir}/2.txt\")])\n    op = await api.wait_for(op.id)\n    md = op[0].result[f\"{base_dir}/2.txt\"]\n    log.info(f\"Metadata for {base_dir}/2.txt: {md}\")\n\n    log.info(\"Removing files ...\")\n    op = await api.rmdir([StoragePath(path=base_dir)])\n    op = await api.wait_for([op.id])\n\n    await client.stop()\n\n\nif __name__ == \"__main__\":\n    asyncio.run(main())"
      ]
    }
  ],
  "metadata": {
    "kernelspec": {
      "display_name": "Python 3",
      "language": "python",
      "name": "python3"
    },
    "language_info": {
      "codemirror_mode": {
        "name": "ipython",
        "version": 3
      },
      "file_extension": ".py",
      "mimetype": "text/x-python",
      "name": "python",
      "nbconvert_exporter": "python",
      "pygments_lexer": "ipython3",
      "version": "3.12.11"
    }
  },
  "nbformat": 4,
  "nbformat_minor": 0
}