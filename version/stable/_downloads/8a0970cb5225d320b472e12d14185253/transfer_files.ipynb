{
  "cells": [
    {
      "cell_type": "markdown",
      "metadata": {},
      "source": [
        "\n\n# Transfer files\n\nThis example script transfers files to remote backends and back using the data transfer service.\nThe ``local-path`` argument is the path to the files or directory to transfer. Wildcards are supported.\n\nExample usage: ``python examples/transfer_files.py --local_path=examples/basic/files/* --remote-path=hello --debug``\n"
      ]
    },
    {
      "cell_type": "markdown",
      "metadata": {},
      "source": [
        "## Perform necessary imports\n\n"
      ]
    },
    {
      "cell_type": "code",
      "execution_count": null,
      "metadata": {
        "collapsed": false
      },
      "outputs": [],
      "source": [
        "import filecmp\nimport glob\nimport logging\nimport os\nfrom pathlib import Path\nfrom time import perf_counter\nfrom typing import Optional\n\nfrom humanfriendly import format_size\nimport typer\nfrom typing_extensions import Annotated\n\nfrom ansys.hps.data_transfer.client import Client, DataTransferApi\nfrom ansys.hps.data_transfer.client.authenticate import authenticate\nfrom ansys.hps.data_transfer.client.models.msg import SrcDst, StoragePath\n\nlog = logging.getLogger(__name__)"
      ]
    },
    {
      "cell_type": "markdown",
      "metadata": {},
      "source": [
        "## Define a method to transfer files using the data transfer service\n\n"
      ]
    },
    {
      "cell_type": "code",
      "execution_count": null,
      "metadata": {
        "collapsed": false
      },
      "outputs": [],
      "source": [
        "def transfer_files(api: DataTransferApi, local_path: str, remote_path: Optional[str] = None):\n    \"\"\"Transfer files to remote backends and back using new data transfer service.\"\"\"\n    if not remote_path:\n        remote_path = Path(local_path).parent.name\n    local_dir = os.path.dirname(local_path)\n\n    log.info(10 * \"=\")\n    log.info(f\"Transfer files: {local_path} to {remote_path}\")\n\n    log.info(\"== Removing remote directory if it exists ...\")\n    op = api.rmdir([StoragePath(path=remote_path)])\n    op = api.wait_for([op.id])\n    log.debug(f\"Operation {op[0].state}\")\n\n    log.info(\"== Creating remote directory ...\")\n    mkdir_op = api.mkdir([StoragePath(path=remote_path)])\n    api.wait_for([mkdir_op.id])\n    log.info(f\"Directory {remote_path} created\")\n\n    local_files = [f for f in glob.glob(local_path, recursive=True)]\n    log.info(f\"== Uploading {len(local_files)} files ...\")\n    log.debug(f\"Local files: {local_files}\")\n\n    copy_args = [\n        SrcDst(\n            src=StoragePath(path=f, remote=\"local\"),\n            dst=StoragePath(path=f\"{remote_path}/{os.path.basename(f)}\", remote=\"any\"),\n        )\n        for f in local_files\n    ]\n    t0 = perf_counter()\n    op = api.copy(copy_args)\n    op = api.wait_for([op.id])\n    t1 = perf_counter()\n    log.debug(f\"Operation {op[0].state}\")\n\n    log.info(f\"== Querying files and metadata in {remote_path} ...\")\n    op = api.list([StoragePath(path=remote_path)])\n    op = api.wait_for([op.id])\n    log.debug(f\"Operation {op[0].state}\")\n    log.debug(f\"Files in {remote_path}: {op[0].result}\")\n    fnames = op[0].result[f\"any:{remote_path}\"]\n\n    op = api.get_metadata([StoragePath(path=f\"{remote_path}/{fname}\") for fname in fnames])\n    op = api.wait_for(op.id)\n    log.debug(f\"Operation {op[0].state}\")\n    log.debug(f\"Metadata for {remote_path}: {op[0].result}\")\n\n    log.info(\"== List of uploaded files:\")\n    total_size = 0\n    for fname in fnames:\n        size = op[0].result[f\"{remote_path}/{fname}\"].get(\"size\", 0)\n        total_size += size\n        checksum = op[0].result[f\"{remote_path}/{fname}\"].get(\"checksum\")\n        log.info(f\"- name={fname} size={format_size(size)} checksum={checksum if checksum else 'n/a'}\")\n\n    log.info(\"== Upload performance:\")\n    log.info(f\"- Total time: {t1-t0:.5f} s\")\n    log.info(f\"- Total size: {format_size(total_size)}\")\n    log.info(f\"- Throughput: {format_size(total_size / (t1 - t0) )}/s\")\n\n    log.info(\"== Downloading files again\")\n    copy_args = [\n        SrcDst(\n            src=StoragePath(path=f\"{remote_path}/{fname}\", remote=\"any\"),\n            dst=StoragePath(path=f\"{local_dir}_downloaded/{fname}\", remote=\"local\"),\n        )\n        for fname in fnames\n    ]\n    t0 = perf_counter()\n    op = api.copy(copy_args)\n    op = api.wait_for([op.id])\n    t1 = perf_counter()\n    log.debug(f\"Operation {op[0].state}\")\n\n    log.info(\"== Download performance:\")\n    log.info(f\"- Total time: {t1-t0:.5f} s\")\n    log.info(f\"- Total size: {format_size(total_size)}\")\n    log.info(f\"- Throughput: {format_size(total_size / (t1 - t0) )}/s\")\n\n    log.info(\"== Comparing files ...\")\n    for fname in fnames:\n        success = filecmp.cmp(f\"{local_dir}/{fname}\", f\"{local_dir}_downloaded/{fname}\", shallow=True)\n        log.info(f\"- {fname}: {'Success' if success else 'Failed'}\")\n        assert success, f\"File {fname} comparison failed!\""
      ]
    },
    {
      "cell_type": "markdown",
      "metadata": {},
      "source": [
        "## Define the main function\n\n"
      ]
    },
    {
      "cell_type": "code",
      "execution_count": null,
      "metadata": {
        "collapsed": false
      },
      "outputs": [],
      "source": [
        "def main(\n    local_path: Annotated[str, typer.Option(help=\"Path to the files or directory to transfer. Supports wildcards\")],\n    remote_path: Annotated[str, typer.Option(help=\"Optional path to the remote directory to transfer files to\")] = None,\n    debug: Annotated[bool, typer.Option(help=\"Enable debug logging\")] = False,\n    url: Annotated[str, typer.Option(help=\"HPS URL to connect to\")] = \"https://localhost:8443/hps\",\n    username: Annotated[str, typer.Option(help=\"Username to authenticate with\")] = \"repadmin\",\n    password: Annotated[\n        str, typer.Option(prompt=True, hide_input=True, help=\"Password to authenticate with\")\n    ] = \"repadmin\",\n):\n    logging.basicConfig(\n        format=\"[%(asctime)s | %(levelname)s] %(message)s\", level=logging.DEBUG if debug else logging.INFO\n    )\n\n    dt_url = f\"{url}/dt/api/v1\"\n    auth_url = f\"{url}/auth/realms/rep\"\n\n    token = authenticate(username=username, password=password, verify=False, url=auth_url)\n    token = token.get(\"access_token\", None)\n    assert token is not None"
      ]
    },
    {
      "cell_type": "markdown",
      "metadata": {},
      "source": [
        "## Create a ``Client`` instance\n\n"
      ]
    },
    {
      "cell_type": "code",
      "execution_count": null,
      "metadata": {
        "collapsed": false
      },
      "outputs": [],
      "source": [
        "client = Client(clean=True)\n\n    client.binary_config.update(\n        verbosity=3,\n        debug=False,\n        insecure=True,\n        token=token,\n        data_transfer_url=dt_url,\n    )\n    client.start()"
      ]
    },
    {
      "cell_type": "markdown",
      "metadata": {},
      "source": [
        "## Create a ``DataTransferApi`` instance\n\n"
      ]
    },
    {
      "cell_type": "code",
      "execution_count": null,
      "metadata": {
        "collapsed": false
      },
      "outputs": [],
      "source": [
        "api = DataTransferApi(client)\n    api.status(wait=True)"
      ]
    },
    {
      "cell_type": "markdown",
      "metadata": {},
      "source": [
        "## Get available storages\n\n"
      ]
    },
    {
      "cell_type": "code",
      "execution_count": null,
      "metadata": {
        "collapsed": false
      },
      "outputs": [],
      "source": [
        "storage_names = [f\"{s['name']}({s['type']})\" for s in api.storages()]\n    log.info(f\"Available storages: {storage_names}\")\n\n    transfer_files(api=api, local_path=local_path, remote_path=remote_path)\n\n    client.stop()\n\n\nif __name__ == \"__main__\":\n    typer.run(main)"
      ]
    }
  ],
  "metadata": {
    "kernelspec": {
      "display_name": "Python 3",
      "language": "python",
      "name": "python3"
    },
    "language_info": {
      "codemirror_mode": {
        "name": "ipython",
        "version": 3
      },
      "file_extension": ".py",
      "mimetype": "text/x-python",
      "name": "python",
      "nbconvert_exporter": "python",
      "pygments_lexer": "ipython3",
      "version": "3.12.11"
    }
  },
  "nbformat": 4,
  "nbformat_minor": 0
}